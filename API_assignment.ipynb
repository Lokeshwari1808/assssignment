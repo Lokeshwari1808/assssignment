{
 "cells": [
  {
   "cell_type": "markdown",
   "metadata": {},
   "source": [
    "Q1. What is an API? Give an example, where an API is used in real life.\n",
    "API: Application Programming Interface, is a set of rules and protocols that allows one software application to interact with another. \n",
    "It defines the methods and data formats that applications can use to request and exchange information.\n",
    "API is used in many applications given below:\n",
    "\n",
    "Weather Applications: They connect to weather service APIs to get the latest information on temperature, humidity, and forecasts.\n",
    "Mapping and Navigation: Mapping and navigation apps use APIs like Google Maps API to provide users with real-time maps, directions, and location-based services.\n",
    "Payment Gateways: E-commerce websites use payment gateway APIs to facilitate secure online transactions. \n",
    "Communication Services: PIs facilitate the exchange of messages, voice calls, and multimedia content between users.\n",
    "Healthcare Integration: Healthcare applications often use APIs to integrate electronic health records (EHRs), lab results, and other medical information.\n",
    "Cloud Computing: Cloud service providers offer APIs that allow developers to manage and interact with cloud resources programmatically. This includes creating virtual machines, storing data, and accessing various cloud services.\n"
   ]
  },
  {
   "cell_type": "markdown",
   "metadata": {},
   "source": [
    "Q2. Give advantages and disadvantages of using API.\n",
    "Advantages:\n",
    "-APIs enable different software systems to communicate and work together, promoting interoperability.\n",
    "-APIs encapsulate functionality in a modular way, making it easy to reuse code.\n",
    "-Security: APIs can enhance security by allowing controlled access to data and functionality. Access can be restricted to specific endpoints or actions, and authentication mechanisms can be implemented to ensure that only authorized users can interact with the API.\n",
    "\n",
    "Disadvantages:\n",
    "-When an application relies heavily on external APIs, it becomes dependent on the availability and reliability of those APIs.\n",
    "-If a third-party service goes down or undergoes changes, it can impact the functioning of the dependent application.\n",
    "-When using third-party APIs, there may be concerns about data privacy. Sharing data with external services requires trust in the security practices of the API provider and compliance with data protection regulations.\n",
    "\n"
   ]
  },
  {
   "cell_type": "markdown",
   "metadata": {},
   "source": [
    "Q3. What is a Web API? Differentiate between API and Web API.\n",
    "API:Application Programming Interface, is a set of rules and protocols that allows one software application to interact with another. \n",
    "Web API: Web API specifically refers to an API that is accessible over the web using standard web protocols such as\n",
    "         HTTP (Hypertext Transfer Protocol) \n",
    "\n",
    "Differences between API and Web API:\n",
    "\n",
    "Scope of Interaction:\n",
    "API : It allows interaction between software components, whether they are local or remote, and may not necessarily involve the web.\n",
    "Web API:  Is is specifically designed to be accessed over the web, making it suitable for communication over the internet.\n",
    "\n",
    "Transport Protocols:\n",
    "API : Can use various communication protocols, including those that are not web-based.\n",
    "Web API: Primarily relies on standard web protocols such as HTTP or HTTPS for communication.\n",
    "\n",
    "Examples:\n",
    "API : It include library APIs, operating system APIs, or any interface enabling interaction between software components.\n",
    "Web API: Examples include RESTful APIs like those used by social media platforms (e.g., Twitter API), payment gateways (e.g., PayPal API), or any service accessible over the web.\n",
    "\n",
    "   "
   ]
  },
  {
   "cell_type": "markdown",
   "metadata": {},
   "source": [
    "Q4. Explain REST and SOAP Architecture. Mention shortcomings of SOAP.\n",
    "\n",
    "REST - Representational State Transfer:\n",
    "Statelessness: Each request from a client to a server must contain all the information needed to understand and process the request. The server should not store any information about the client's state between requests.\n",
    "\n",
    "Resource-Based: Resources (such as data or services) are identified by URIs (Uniform Resource Identifiers). These resources can be manipulated using standard HTTP methods like GET, POST, PUT, and DELETE.\n",
    "\n",
    "\n",
    "SOAP - Simple Object Access Protocol:\n",
    "SOAP is a protocol for exchanging structured information in web services. It relies on XML as its message format and is often used in conjunction with other web protocols such as HTTP and SMTP. Key characteristics of SOAP include:\n",
    "\n",
    "XML-Based, Complexity, Standardized Communication, Stateful Communication, Security, \n",
    "\n",
    "Shortcomings of SOAP:\n",
    "Performance Overhead: Due to its XML format and additional protocol features, SOAP can result in higher performance overhead compared to more lightweight protocols like REST.\n",
    "Flexibility: While RESTful services can be more flexible in terms of data formats (supporting JSON, XML, etc.), SOAP is primarily tied to XML, which may limit flexibility in certain scenarios.\n"
   ]
  },
  {
   "cell_type": "markdown",
   "metadata": {},
   "source": [
    "Q5. Differentiate between REST and SOAP.\n",
    "\n",
    "Protocol:\n",
    "REST: Typically relies on standard protocols such as HTTP for communication.\n",
    "SOAP: Can use multiple transport protocols, including HTTP, SMTP, or others.\n",
    "\n",
    "Flexibility:\n",
    "REST: More flexible in terms of data formats, supporting multiple representations such as JSON, XML, and others.\n",
    "SOAP: Primarily tied to XML, which may limit flexibility in certain scenarios.\n",
    "\n",
    "Message Format:\n",
    "REST: Typically uses lightweight data interchange formats such as JSON or XML for message formatting.\n",
    "SOAP: Uses XML as its message format, which can result in larger and more complex messages compared to REST.\n",
    "\n"
   ]
  }
 ],
 "metadata": {
  "language_info": {
   "name": "python"
  }
 },
 "nbformat": 4,
 "nbformat_minor": 2
}
