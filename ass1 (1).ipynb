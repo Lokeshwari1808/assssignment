{
 "cells": [
  {
   "cell_type": "code",
   "execution_count": 52,
   "id": "eb7b98cf-e00b-4d59-8cc9-211a07b3016e",
   "metadata": {},
   "outputs": [
    {
     "name": "stdout",
     "output_type": "stream",
     "text": [
      "python [145, 'abc', 24.5] 45.36 (12, 'a', 'java')\n"
     ]
    }
   ],
   "source": [
    "\"\"\"Q2. Given are some following variables containing data:\n",
    "(i) var1 = ‘ ‘\n",
    "(ii) var2 = ‘[ DS , ML , Python]’\n",
    "(iii) var3 = [ ‘DS’ , ’ML’ , ‘Python’ ]\n",
    "(iv) var4 = 1.\n",
    "What will be the data type of the above given variable.\"\"\"\n",
    "## 1st question\n",
    "a = \"python\"\n",
    "l =[145,\"abc\",24.5]\n",
    "c =45.36\n",
    "b =(12,\"a\",\"java\")\n",
    "print(a,l,c,b)"
   ]
  },
  {
   "cell_type": "code",
   "execution_count": 53,
   "id": "173a6ea7-4405-488e-ab54-2a9a1e4f0aa3",
   "metadata": {},
   "outputs": [],
   "source": [
    "\"\"\"Q2. Given are some following variables containing data:\n",
    "(i) var1 = ‘ ‘\n",
    "(ii) var2 = ‘[ DS , ML , Python]’\n",
    "(iii) var3 = [ ‘DS’ , ’ML’ , ‘Python’ ]\n",
    "(iv) var4 = 1.\n",
    "What will be the data type of the above given variable.\"\"\"\n",
    "## 2nd question\n",
    "var1 =\"\" ## string\n",
    "var2 ='[DS,ML,Python]' ## string\n",
    "var3 =['DS','ML','Pthon'] ## List\n",
    "var4 =1. ## float\n"
   ]
  },
  {
   "cell_type": "code",
   "execution_count": 54,
   "id": "51bf6e4e-8da2-43f6-9688-2a9d6ab5d304",
   "metadata": {},
   "outputs": [
    {
     "name": "stdout",
     "output_type": "stream",
     "text": [
      "2.0\n",
      "0\n",
      "2\n",
      "8000\n"
     ]
    }
   ],
   "source": [
    "\"\"\"Q3. Explain the use of the following operators using an example:\n",
    "(i) /\n",
    "(ii) %\n",
    "(iii) //\n",
    "(iv) **\"\"\"\n",
    "\n",
    "## 3rd question\n",
    "a=20\n",
    "b=10\n",
    "print(a/b)\n",
    "print(a%b)\n",
    "print(a//b)\n",
    "print(a**3)"
   ]
  },
  {
   "cell_type": "code",
   "execution_count": 57,
   "id": "683b62fc-a974-4bd8-b076-9bd32043680f",
   "metadata": {},
   "outputs": [
    {
     "name": "stdout",
     "output_type": "stream",
     "text": [
      "python <class 'str'>\n",
      "124 <class 'int'>\n",
      "45.2 <class 'float'>\n",
      "c <class 'str'>\n",
      "(1+2j) <class 'complex'>\n",
      "56.0 <class 'float'>\n",
      "True <class 'bool'>\n",
      "java <class 'str'>\n",
      "False <class 'bool'>\n",
      "36.2 <class 'float'>\n"
     ]
    }
   ],
   "source": [
    "\"\"\"\"Q4. Create a list of length 10 of your choice containing multiple types of data. Using for loop print the\n",
    "element and its data type\"\"\"\n",
    "a=[\"python\",124,45.2,\"c\",1+2j,56.0,True,\"java\",False,36.2]\n",
    "for i in a:\n",
    "    print(i,type(i))\n"
   ]
  },
  {
   "cell_type": "code",
   "execution_count": 56,
   "id": "59c48b4a-7b35-49c2-8355-b8cb45bcbcfc",
   "metadata": {},
   "outputs": [
    {
     "name": "stdout",
     "output_type": "stream",
     "text": [
      "1\n"
     ]
    }
   ],
   "source": [
    "\"\"\"Q5. Using a while loop, verify if the number A is purely divisible by number B and if so then how many\n",
    "times it can be divisible.\"\"\"\n",
    "a=20\n",
    "b=4\n",
    "n=0\n",
    "while a%b==0:\n",
    "    a=a/b\n",
    "    n=n+1\n",
    "if n>0:\n",
    "    print(n)"
   ]
  },
  {
   "cell_type": "code",
   "execution_count": 59,
   "id": "08d5d0bf-cd5e-42b7-b566-1bbe431913e2",
   "metadata": {},
   "outputs": [
    {
     "name": "stdout",
     "output_type": "stream",
     "text": [
      "1 1 is not divisible by 3\n",
      "2 2 is not divisible by 3\n",
      "5 5 is not divisible by 3\n",
      "4 4 is not divisible by 3\n",
      "5 5 is not divisible by 3\n",
      "7 7 is not divisible by 3\n",
      "15 15 is divisible by 3\n",
      "42 42 is divisible by 3\n",
      "98 98 is not divisible by 3\n",
      "7 7 is not divisible by 3\n",
      "23 23 is not divisible by 3\n",
      "10 10 is not divisible by 3\n",
      "15 15 is divisible by 3\n",
      "24 24 is divisible by 3\n",
      "61 61 is not divisible by 3\n",
      "56 56 is not divisible by 3\n",
      "45 45 is divisible by 3\n",
      "78 78 is divisible by 3\n",
      "12 12 is divisible by 3\n",
      "36 36 is divisible by 3\n",
      "40 40 is not divisible by 3\n",
      "25 25 is not divisible by 3\n",
      "22 22 is not divisible by 3\n",
      "13 13 is not divisible by 3\n",
      "10 10 is not divisible by 3\n",
      "12 12 is divisible by 3\n",
      "93 93 is divisible by 3\n"
     ]
    }
   ],
   "source": [
    "\"\"\"Q6. Create a list containing 25 int type data. Using for loop and if-else condition print if the element is\n",
    "divisible by 3 or not.\"\"\"\n",
    "a=[1,2,5,4,5,7,15,42,98,7,23,10,15,24,61,56,45,78,12,36,40,25,22,13,10]\n",
    "for i in a:\n",
    "    if (i%3==0):\n",
    "        print(i, f\"{i} is divisible by 3\"  )\n",
    "    else:\n",
    "        print(i,f\"{i} is not divisible by 3\")\n"
   ]
  },
  {
   "cell_type": "code",
   "execution_count": 51,
   "id": "478bcf1b-6b86-4bf9-aad4-5b95cafae823",
   "metadata": {},
   "outputs": [
    {
     "name": "stdout",
     "output_type": "stream",
     "text": [
      "[12, 45.3, 'python']\n",
      "[12, 'loki', 'python']\n"
     ]
    }
   ],
   "source": [
    "\"\"\"Q7. What do you understand about mutable and immutable data types? Give examples for both showing\n",
    "this property.\"\"\"\n",
    "#mutable#\n",
    "\"\"\"we are able to change index value of the data is called as mutable\"\"\"\n",
    "\n",
    "s=[12,45.3,\"python\"]\n",
    "print(s)\n",
    "s[1]\n",
    "s[1]=\"loki\"\n",
    "print(s)\n",
    "#immutable#\n",
    "\"\"\"we are not able to change  index value of data\"\"\"\n",
    "v=\"hello\"\n",
    "\n"
   ]
  },
  {
   "cell_type": "code",
   "execution_count": 45,
   "id": "a97cea2c-a785-401d-b6fb-5bf38dfbdc76",
   "metadata": {},
   "outputs": [
    {
     "data": {
      "text/plain": [
       "12"
      ]
     },
     "execution_count": 45,
     "metadata": {},
     "output_type": "execute_result"
    }
   ],
   "source": []
  },
  {
   "cell_type": "code",
   "execution_count": null,
   "id": "df7a0900-9e5d-46d2-a9fe-cdaf6bd947cd",
   "metadata": {},
   "outputs": [],
   "source": []
  },
  {
   "cell_type": "code",
   "execution_count": null,
   "id": "badee9dc-b6aa-4231-90f0-4a83ad63655b",
   "metadata": {},
   "outputs": [],
   "source": []
  },
  {
   "cell_type": "code",
   "execution_count": null,
   "id": "c95bd8ce-1c3e-439f-a49b-46110070d71e",
   "metadata": {},
   "outputs": [],
   "source": []
  },
  {
   "cell_type": "code",
   "execution_count": null,
   "id": "b4e8615b-c8f2-4d23-8785-0a8682f4ee4b",
   "metadata": {},
   "outputs": [],
   "source": []
  },
  {
   "cell_type": "code",
   "execution_count": null,
   "id": "398983d1-0fc6-4231-814c-37d6199f4cbd",
   "metadata": {},
   "outputs": [],
   "source": []
  }
 ],
 "metadata": {
  "kernelspec": {
   "display_name": "Python 3 (ipykernel)",
   "language": "python",
   "name": "python3"
  },
  "language_info": {
   "codemirror_mode": {
    "name": "ipython",
    "version": 3
   },
   "file_extension": ".py",
   "mimetype": "text/x-python",
   "name": "python",
   "nbconvert_exporter": "python",
   "pygments_lexer": "ipython3",
   "version": "3.10.8"
  }
 },
 "nbformat": 4,
 "nbformat_minor": 5
}
