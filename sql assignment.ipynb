{
 "cells": [
  {
   "cell_type": "markdown",
   "metadata": {},
   "source": [
    "1Q.What is a database? Differentiate between SQL and NoSQL databases.\n",
    "Database is a collection of structured data, information\n",
    "database is used for storing, manipulating, accessing the data from the database\n",
    "SQL- Structured Query Language is relational database\n",
    "     have structured schema\n",
    "    -my SQL\n",
    "    -ms SQL\n",
    "    -db2\n",
    "    -oracle\n",
    "NoSQL-not only structured Query Language is non relational database\n",
    "      have unstructured schema\n",
    "    -monogoDB\n",
    "    -cassandra\n",
    "    -Hbase\n",
    "    -influx\n"
   ]
  },
  {
   "cell_type": "markdown",
   "metadata": {},
   "source": [
    "2Q.What is DDL? Explain why CREATE, DROP, ALTER, and TRUNCATE are used with an example.\n",
    "DDL-DATA DEFINITION Language\n",
    "Commands: CREATE,ALTER,DROP,TRUNCATE\n",
    "CREATE: is used to create object in the database\n",
    "Ex: CREATE table employee\n",
    "{emp_id int,\n",
    "name char(20)\n",
    "age int\n",
    "city char(10)\n",
    "ph_no varchar(20)};\n",
    "\n",
    "DROP: is used to remove entire database object from the database\n",
    "Ex: DROP table employee:\n",
    "\n",
    "ALTER: it allows to alter or modify the structure of database and add additional columns, drops existing columns, even change datatype of columns\n",
    "Ex: Alter table employee Add\n",
    "     (address varchar(20));\n",
    "\n",
    "TRUNCATE: is used to delete all the rows from the table permanently\n",
    "Ex: TRUNCATE table employee;"
   ]
  },
  {
   "cell_type": "markdown",
   "metadata": {},
   "source": [
    "3Q.What is DML? Explain INSERT, UPDATE, and DELETE with an example.\n",
    "DML:DATA MANIPULATION LANGUAGE\n",
    "Commands: SELECT,INSERT,UPDATE,DELETE\n",
    "\n",
    "SELECT: is used to retrieve data from the database \n",
    "In this we use clauses: WHERE,GROUP BY,HAVING,ORDER BY,AS\n",
    "Ex: SELECT * from employee;\n",
    "\n",
    "INSERT: is used to insert the data into table to add one or more reocrds into a single table\n",
    "Ex: INSERT into employee(e_id int, ename varchar(20) city varchar(10));\n",
    "    Values(101,\"a\",'hyd')\n",
    "\n",
    "UPDATE: is used to modify record present in existing table\n",
    "Ex: UPDATE employee set salary=50000\n",
    "    where ename='a'\n",
    "\n",
    "DELETE: is used to delete some or all records from the existing table\n",
    "Ex: DELETE from employee where e_id='101'\n",
    "\n"
   ]
  },
  {
   "cell_type": "markdown",
   "metadata": {},
   "source": [
    "4Q.What is DQL? Explain SELECT with an example.\n",
    "DQL: DATA QUERY LANGUAGE\n",
    "Commands: SELECT \n",
    "SELECT: is used to specifies the columns to want to retrieve\n",
    "Ex: SELECT columns1, columns2\n",
    "    from table_name\n",
    "    where conditions;"
   ]
  },
  {
   "cell_type": "markdown",
   "metadata": {},
   "source": [
    "5Q.Explain Primary Key and Foreign Key.\n",
    "PRIMARY KEY: \n",
    "CREATE TABLE Employees(\n",
    "    Emp_id INT primary key,\n",
    "    FirstName VARCHAR(50),\n",
    "    LastName VARCHAR(50),\n",
    "    Salary DECIMAL(10,2)\n",
    "\n",
    ")\n",
    "FOREIGN KEY:\n",
    "CREATE TABLE Employees(\n",
    "    DepartmentId INT primary key,\n",
    "    DepartmentNAme varchar(50)\n",
    ");\n",
    "CREATE TABLE Employees(\n",
    "    Emp_id INT priamry key,\n",
    "    FirstName varchar(50),\n",
    "    LastName varchar(50),\n",
    "    Salary DECIMAL(10,2),\n",
    "    DepartmentID INT,\n",
    "    foreign key (DepartmentId) REFERENCES (DepartmentId)\n",
    ");\n",
    "\n",
    "\n"
   ]
  },
  {
   "cell_type": "markdown",
   "metadata": {},
   "source": [
    "6Q.Write a python code to connect MySQL to python. Explain the cursor() and execute() method.\n",
    "connection = mysql.connector.connect(\n",
    "        host=host,\n",
    "        user=user,\n",
    "        password=password,\n",
    "        database=database\n",
    "    )\n",
    "\n",
    "    if connection.is_connected():\n",
    "        print(\"Connected to MySQL database\")\n",
    "\n",
    "CURSOR:is used to create a cursor object. A cursor is like a pointer or an iterator that is used to interact with the database.\n",
    "The cursor allows you to execute SQL queries and fetch results.\n",
    "EXECUTE:is used to execute a SQL query that you provide as an argument.\n",
    "After calling execute(), you can use other methods like fetchone(), fetchall(), etc., on the cursor to retrieve the results of the query.\n",
    "It's important to note that the changes made by the query (e.g., insert, update, delete) won't be reflected in the database until you commit the changes. You can do this using connection.commit().\n",
    "\n"
   ]
  },
  {
   "cell_type": "markdown",
   "metadata": {},
   "source": [
    "7Q.Give the order of execution of SQL clauses in an SQL query.\n",
    "The SQL Clause sequence is:\n",
    "FROM: Specifies the table or tables from which the data will be retrieved.\n",
    "\n",
    "JOIN: Combines records from two or more tables based on a related column between them.\n",
    "\n",
    "WHERE: Filters the rows based on a specified condition or criteria.\n",
    "\n",
    "GROUP BY: Groups the result set based on one or more columns.\n",
    "\n",
    "HAVING: Filters the grouped rows based on a specified condition.\n",
    "\n",
    "SELECT: Specifies the columns to be retrieved from the result set.\n",
    "\n",
    "DISTINCT: Removes duplicate rows from the result set.\n",
    "\n",
    "ORDER BY: Sorts the result set based on one or more columns.\n",
    "\n",
    "LIMIT/OFFSET: Specifies the number of rows to retrieve and the starting point of the result set.\n",
    "\n"
   ]
  }
 ],
 "metadata": {
  "language_info": {
   "name": "python"
  }
 },
 "nbformat": 4,
 "nbformat_minor": 2
}
