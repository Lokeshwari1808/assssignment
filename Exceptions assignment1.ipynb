{
 "cells": [
  {
   "cell_type": "markdown",
   "metadata": {},
   "source": [
    "\"\"\"Q1. What is an Exeception in python? Write the difference between Exceptions and syntax errors\"\"\"\n",
    "\"\"\"Exception:Exception is used to handle the error.\n",
    "          It occurs at run time only\n",
    "          a=10\n",
    "          a/0\"\"\"\n",
    "\"\"\"SyntaxError: Sytax error is the error when we write the error in the code.\n",
    "          It occurs when the wrong error of the syntax\n",
    "          a=loki\n",
    "          print(loki)\"\"\"\n",
    "                   \n",
    "          "
   ]
  },
  {
   "cell_type": "code",
   "execution_count": 1,
   "metadata": {},
   "outputs": [],
   "source": [
    "\"\"\"Q2. What happens when an exception is not handled? Explain with an example.\"\"\"\n",
    "\"\"\"When an exception is not handled then the entire program will terminate or an error message will display\"\"\"\n",
    "\n",
    "def exception_function():\n",
    "    a=10\n",
    "    b=0\n",
    "    print(a/b)\n",
    "    try:\n",
    "        exception_function()\n",
    "    except ZeroDivisionError:\n",
    "        print(\"a can't divide by zero\")\n",
    "\n"
   ]
  },
  {
   "cell_type": "code",
   "execution_count": 6,
   "metadata": {},
   "outputs": [
    {
     "name": "stdout",
     "output_type": "stream",
     "text": [
      "TypeError\n",
      "execution completed\n"
     ]
    }
   ],
   "source": [
    "\"\"\"Q3. Which Python statements are used to catch and handle exceptions? Explain withn example\"\"\"\n",
    "#In Python try,except,else,finally statements are used.\n",
    "try:\n",
    "    int(\"loki\")\n",
    "except (ValueError, TypeError):\n",
    "    print(\"TypeError\")\n",
    "else:\n",
    "    (\"execution:error\")\n",
    "finally:\n",
    "    print(\"execution completed\")\n",
    "    "
   ]
  },
  {
   "cell_type": "code",
   "execution_count": 17,
   "metadata": {},
   "outputs": [
    {
     "name": "stdout",
     "output_type": "stream",
     "text": [
      "exception error\n"
     ]
    }
   ],
   "source": [
    "\"\"\"Q4. Explin with an exmple:\n",
    "a.try and else\n",
    "b. finally\n",
    "c.raise\"\"\"\n",
    "#try and except and else\n",
    "try:\n",
    "    a=10\n",
    "    a/0\n",
    "    print(\"a\")\n",
    "except ZeroDivisionError:\n",
    "    print(\"exception error\")  \n",
    "else:\n",
    "    print(\"my code is executing\") \n",
    "    \n",
    "    \n"
   ]
  },
  {
   "cell_type": "code",
   "execution_count": 18,
   "metadata": {},
   "outputs": [
    {
     "name": "stdout",
     "output_type": "stream",
     "text": [
      "division by zero\n",
      "i'm learning exception hanldings in python\n"
     ]
    }
   ],
   "source": [
    "#finally\n",
    "try:\n",
    "    a=10\n",
    "    b=0\n",
    "    c=a/b\n",
    "    print(\"a\")\n",
    "except ZeroDivisionError as e:\n",
    "    print(e)  \n",
    "else:\n",
    "    print(\"my code is executing\") \n",
    "    \n",
    "finally:\n",
    "    print(\"i'm learning exception hanldings in python\")"
   ]
  },
  {
   "cell_type": "code",
   "execution_count": 23,
   "metadata": {},
   "outputs": [
    {
     "name": "stdout",
     "output_type": "stream",
     "text": [
      "age is not string\n"
     ]
    }
   ],
   "source": [
    "#raise\n",
    "age=\"x\"\n",
    "if age is int:\n",
    "  raise TypeError\n",
    "print(\"age is not string\")"
   ]
  },
  {
   "cell_type": "code",
   "execution_count": 20,
   "metadata": {},
   "outputs": [
    {
     "name": "stdout",
     "output_type": "stream",
     "text": [
      "marks should be greater than zero\n"
     ]
    }
   ],
   "source": [
    "\"\"\"Q5. What are Custom Exceptions in python? Why do we need Custom Exceptions? Explain with an example\"\"\"\n",
    "\"\"\"Custom Exceptions: Custom exception is a class that inherits from the exception \"\"\"\n",
    "class result(Exception):\n",
    "    def __init__(self,msg):\n",
    "        self.msg=msg\n",
    "def validate_marks(marks):\n",
    "    if marks>0 and marks<35:\n",
    "        print(\"fail\")\n",
    "    elif marks<0:\n",
    "         raise result(\"marks should be greater than zero\")\n",
    "    else:\n",
    "        print(\"pass\")\n",
    "try:\n",
    "    marks=int(input(\"enter the marks\"))  \n",
    "    validate_marks(marks)       \n",
    "except result as e:\n",
    "    print(e)\n",
    "    "
   ]
  },
  {
   "cell_type": "code",
   "execution_count": 32,
   "metadata": {},
   "outputs": [
    {
     "name": "stdout",
     "output_type": "stream",
     "text": [
      "age is valid\n"
     ]
    }
   ],
   "source": [
    "\"\"\"Q6. Create custom exception class. Use this class to handle an exception.\"\"\"\n",
    "class validateage(Exception):\n",
    "    def __init__(self,msg):\n",
    "        self.msg=msg\n",
    "def validate_age(age):\n",
    "            if age<0:\n",
    "                raise validateage(\"age sholudn't be lesser than zero\")\n",
    "            elif age>200:\n",
    "                raise validateage(\"age is too high\")\n",
    "            else:\n",
    "                print(\"age is valid\")   \n",
    "try:\n",
    "    age=int(input(\"enter your age\"))\n",
    "    validate_age(age)\n",
    "except  validateage as e:\n",
    "    print(e)                      \n",
    "    "
   ]
  },
  {
   "cell_type": "code",
   "execution_count": null,
   "metadata": {},
   "outputs": [],
   "source": []
  }
 ],
 "metadata": {
  "kernelspec": {
   "display_name": "Python 3",
   "language": "python",
   "name": "python3"
  },
  "language_info": {
   "codemirror_mode": {
    "name": "ipython",
    "version": 3
   },
   "file_extension": ".py",
   "mimetype": "text/x-python",
   "name": "python",
   "nbconvert_exporter": "python",
   "pygments_lexer": "ipython3",
   "version": "3.9.7"
  },
  "orig_nbformat": 4
 },
 "nbformat": 4,
 "nbformat_minor": 2
}
