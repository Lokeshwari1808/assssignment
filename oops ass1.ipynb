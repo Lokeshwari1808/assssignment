{
 "cells": [
  {
   "cell_type": "code",
   "execution_count": 9,
   "metadata": {},
   "outputs": [],
   "source": [
    "# Q1. Explain Class and Object with respect to Object-Oriented Programming. Give a suitable example.\n",
    "\n",
    "# Object: Object is a real world entity\n",
    "# Class: Class is a collection of objects\n",
    "class student:\n",
    "      \n",
    "      def __init__(self,name,id,marks):\n",
    "            self.name=name\n",
    "            self.id=id\n",
    "            self.marks=marks\n",
    "                \n",
    "      def return_std_details(self):\n",
    "            return self.name,self.id,self.marks\n",
    "            "
   ]
  },
  {
   "cell_type": "code",
   "execution_count": 10,
   "metadata": {},
   "outputs": [],
   "source": [
    "std_obj=student(\"Goutham\",102,1000)"
   ]
  },
  {
   "cell_type": "code",
   "execution_count": 11,
   "metadata": {},
   "outputs": [
    {
     "data": {
      "text/plain": [
       "'Goutham'"
      ]
     },
     "execution_count": 11,
     "metadata": {},
     "output_type": "execute_result"
    }
   ],
   "source": [
    "std_obj.name"
   ]
  },
  {
   "cell_type": "code",
   "execution_count": 22,
   "metadata": {},
   "outputs": [
    {
     "data": {
      "text/plain": [
       "\"Four pillars of oop's concept are:\\ni. Polymorphism : poly means many and morphism means forms \\nii. Encapsulation :\\niii. Inheritance: inherits child class from parent class\\n      types of inheritance: - single inheritance\\n                            - multiple inheritance\\n                            - multi-level inheritance\\niv. Abstraction: hides the internal process and shows the output only \""
      ]
     },
     "execution_count": 22,
     "metadata": {},
     "output_type": "execute_result"
    }
   ],
   "source": [
    "# Q2. Name the four pillars of OOPs.\n",
    "\"\"\"Four pillars of oop's concept are:\n",
    "i. Polymorphism : poly means many and morphism means forms \n",
    "ii. Encapsulation :\n",
    "iii. Inheritance: inherits child class from parent class\n",
    "      types of inheritance: - single inheritance\n",
    "                            - multiple inheritance\n",
    "                            - multi-level inheritance\n",
    "iv. Abstraction: hides the internal process and shows the output only \"\"\""
   ]
  },
  {
   "cell_type": "code",
   "execution_count": 19,
   "metadata": {},
   "outputs": [],
   "source": [
    "# Q3. Explain why the __init__() function is used. Give a suitable example.\n",
    "# __init__ is a constructor in python.\n",
    "# It is used to create objects for the class \n",
    "\n",
    "class aurora:\n",
    "    def __init__(self,name,phno,email_id,address):\n",
    "        self.name=name\n",
    "        self.phno=phno\n",
    "        self.email_id=email_id\n",
    "        self.address=address\n",
    "    def return_student_details(self):\n",
    "        return self.name,self.phno,self.email_id,self.address\n",
    "    "
   ]
  },
  {
   "cell_type": "code",
   "execution_count": 17,
   "metadata": {},
   "outputs": [],
   "source": [
    "au=aurora(\"Darshana\",9875412630,\"lokeshwaridarshana@gmail.com\",\"suryapet\")"
   ]
  },
  {
   "cell_type": "code",
   "execution_count": 18,
   "metadata": {},
   "outputs": [
    {
     "data": {
      "text/plain": [
       "'Darshana'"
      ]
     },
     "execution_count": 18,
     "metadata": {},
     "output_type": "execute_result"
    }
   ],
   "source": [
    "au.name"
   ]
  },
  {
   "cell_type": "code",
   "execution_count": 13,
   "metadata": {},
   "outputs": [
    {
     "data": {
      "text/plain": [
       "'lokeshwaridarshana@gmail.com'"
      ]
     },
     "execution_count": 13,
     "metadata": {},
     "output_type": "execute_result"
    }
   ],
   "source": [
    "au.email_id"
   ]
  },
  {
   "cell_type": "code",
   "execution_count": 20,
   "metadata": {},
   "outputs": [
    {
     "data": {
      "text/plain": [
       "9875412630"
      ]
     },
     "execution_count": 20,
     "metadata": {},
     "output_type": "execute_result"
    }
   ],
   "source": [
    "au.phno"
   ]
  },
  {
   "cell_type": "code",
   "execution_count": 21,
   "metadata": {},
   "outputs": [
    {
     "data": {
      "text/plain": [
       "'suryapet'"
      ]
     },
     "execution_count": 21,
     "metadata": {},
     "output_type": "execute_result"
    }
   ],
   "source": [
    "au.address"
   ]
  },
  {
   "cell_type": "code",
   "execution_count": null,
   "metadata": {},
   "outputs": [],
   "source": []
  }
 ],
 "metadata": {
  "kernelspec": {
   "display_name": "Python 3",
   "language": "python",
   "name": "python3"
  },
  "language_info": {
   "codemirror_mode": {
    "name": "ipython",
    "version": 3
   },
   "file_extension": ".py",
   "mimetype": "text/x-python",
   "name": "python",
   "nbconvert_exporter": "python",
   "pygments_lexer": "ipython3",
   "version": "3.9.7"
  },
  "orig_nbformat": 4
 },
 "nbformat": 4,
 "nbformat_minor": 2
}
