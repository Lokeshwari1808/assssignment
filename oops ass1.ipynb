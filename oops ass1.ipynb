{
 "cells": [
  {
   "cell_type": "code",
   "execution_count": 9,
   "metadata": {},
   "outputs": [],
   "source": [
    "# Q1. Explain Class and Object with respect to Object-Oriented Programming. Give a suitable example.\n",
    "\n",
    "# Object: Object is a real world entity\n",
    "# Class: Class is a collection of objects\n",
    "class student:\n",
    "      \n",
    "      def __init__(self,name,id,marks):\n",
    "            self.name=name\n",
    "            self.id=id\n",
    "            self.marks=marks\n",
    "                \n",
    "      def return_std_details(self):\n",
    "            return self.name,self.id,self.marks\n",
    "            "
   ]
  },
  {
   "cell_type": "code",
   "execution_count": 10,
   "metadata": {},
   "outputs": [],
   "source": [
    "std_obj=student(\"Goutham\",102,1000)"
   ]
  },
  {
   "cell_type": "code",
   "execution_count": 11,
   "metadata": {},
   "outputs": [
    {
     "data": {
      "text/plain": [
       "'Goutham'"
      ]
     },
     "execution_count": 11,
     "metadata": {},
     "output_type": "execute_result"
    }
   ],
   "source": [
    "std_obj.name"
   ]
  },
  {
   "cell_type": "code",
   "execution_count": 22,
   "metadata": {},
   "outputs": [
    {
     "data": {
      "text/plain": [
       "\"Four pillars of oop's concept are:\\ni. Polymorphism : poly means many and morphism means forms \\nii. Encapsulation :\\niii. Inheritance: inherits child class from parent class\\n      types of inheritance: - single inheritance\\n                            - multiple inheritance\\n                            - multi-level inheritance\\niv. Abstraction: hides the internal process and shows the output only \""
      ]
     },
     "execution_count": 22,
     "metadata": {},
     "output_type": "execute_result"
    }
   ],
   "source": [
    "# Q2. Name the four pillars of OOPs.\n",
    "\"\"\"Four pillars of oop's concept are:\n",
    "i. Polymorphism : poly means many and morphism means forms.Polymorphism means same function name being used for different types.\n",
    "ii. Encapsulation : Encapsulation is a mechanism of wrapping the data and coding together into a single unit.\n",
    "iii. Inheritance: inherits child class from parent class\n",
    "      types of inheritance: - single inheritance\n",
    "                            - multiple inheritance\n",
    "                            - multi-level inheritance\n",
    "iv. Abstraction: hides the internal process and shows the output only \"\"\""
   ]
  },
  {
   "cell_type": "code",
   "execution_count": 19,
   "metadata": {},
   "outputs": [],
   "source": [
    "# Q3. Explain why the __init__() function is used. Give a suitable example.\n",
    "# __init__ is a constructor in python.\n",
    "# It is used to create objects for the class \n",
    "\n",
    "class aurora:\n",
    "    def __init__(self,name,phno,email_id,address):\n",
    "        self.name=name\n",
    "        self.phno=phno\n",
    "        self.email_id=email_id\n",
    "        self.address=address\n",
    "    def return_student_details(self):\n",
    "        return self.name,self.phno,self.email_id,self.address\n",
    "    "
   ]
  },
  {
   "cell_type": "code",
   "execution_count": 17,
   "metadata": {},
   "outputs": [],
   "source": [
    "au=aurora(\"Darshana\",9875412630,\"lokeshwaridarshana@gmail.com\",\"suryapet\")"
   ]
  },
  {
   "cell_type": "code",
   "execution_count": 18,
   "metadata": {},
   "outputs": [
    {
     "data": {
      "text/plain": [
       "'Darshana'"
      ]
     },
     "execution_count": 18,
     "metadata": {},
     "output_type": "execute_result"
    }
   ],
   "source": [
    "au.name"
   ]
  },
  {
   "cell_type": "code",
   "execution_count": 13,
   "metadata": {},
   "outputs": [
    {
     "data": {
      "text/plain": [
       "'lokeshwaridarshana@gmail.com'"
      ]
     },
     "execution_count": 13,
     "metadata": {},
     "output_type": "execute_result"
    }
   ],
   "source": [
    "au.email_id"
   ]
  },
  {
   "cell_type": "code",
   "execution_count": 20,
   "metadata": {},
   "outputs": [
    {
     "data": {
      "text/plain": [
       "9875412630"
      ]
     },
     "execution_count": 20,
     "metadata": {},
     "output_type": "execute_result"
    }
   ],
   "source": [
    "au.phno"
   ]
  },
  {
   "cell_type": "code",
   "execution_count": 21,
   "metadata": {},
   "outputs": [
    {
     "data": {
      "text/plain": [
       "'suryapet'"
      ]
     },
     "execution_count": 21,
     "metadata": {},
     "output_type": "execute_result"
    }
   ],
   "source": [
    "au.address"
   ]
  },
  {
   "cell_type": "code",
   "execution_count": 46,
   "metadata": {},
   "outputs": [],
   "source": [
    "# Q4. Why self is used in OOPs?\n",
    "\n",
    "\"\"\" self is a pointer is used to store the value \"\"\"\n",
    "\n",
    "class aurora:\n",
    "    def exam(self):\n",
    "        print(\"welcome to the college festival\")"
   ]
  },
  {
   "cell_type": "code",
   "execution_count": 47,
   "metadata": {},
   "outputs": [],
   "source": [
    "au=aurora()"
   ]
  },
  {
   "cell_type": "code",
   "execution_count": 51,
   "metadata": {},
   "outputs": [
    {
     "name": "stdout",
     "output_type": "stream",
     "text": [
      "welcome to the college festival\n"
     ]
    }
   ],
   "source": [
    "au.exam()"
   ]
  },
  {
   "cell_type": "code",
   "execution_count": 44,
   "metadata": {},
   "outputs": [],
   "source": [
    "# Q5. What is inheritance? Give an example for each type of inheritance.\n",
    "\n",
    "\"\"\"Inheritance : It is a mechanism. A child class inherit all the properties and values from the parent clas.PendingDeprecationWarning\n",
    "              Types: single Inheritance\n",
    "                     multiple Inheritance\n",
    "                     multi-level Inheritance \"\"\"\n",
    "\n",
    "class pwskills1:\n",
    "    def class1(self1):\n",
    "        print(\"this is my first class\")           "
   ]
  },
  {
   "cell_type": "code",
   "execution_count": 22,
   "metadata": {},
   "outputs": [],
   "source": [
    "class pwskills2(pwskills1):\n",
    "    def class2(self2):\n",
    "        print(\"this is my second class\")"
   ]
  },
  {
   "cell_type": "code",
   "execution_count": 24,
   "metadata": {},
   "outputs": [],
   "source": [
    "class pwskills3(pwskills2):\n",
    "    def class3(self):\n",
    "        print(\"this is my third class\")\n",
    "    "
   ]
  },
  {
   "cell_type": "code",
   "execution_count": 28,
   "metadata": {},
   "outputs": [],
   "source": [
    "pw1=pwskills1()"
   ]
  },
  {
   "cell_type": "code",
   "execution_count": 29,
   "metadata": {},
   "outputs": [],
   "source": [
    "pw2=pwskills2()"
   ]
  },
  {
   "cell_type": "code",
   "execution_count": 30,
   "metadata": {},
   "outputs": [],
   "source": [
    "pw3=pwskills3()"
   ]
  },
  {
   "cell_type": "code",
   "execution_count": 31,
   "metadata": {},
   "outputs": [
    {
     "name": "stdout",
     "output_type": "stream",
     "text": [
      "this is my second class\n"
     ]
    }
   ],
   "source": [
    "pw3.class2()"
   ]
  },
  {
   "cell_type": "code",
   "execution_count": 34,
   "metadata": {},
   "outputs": [
    {
     "name": "stdout",
     "output_type": "stream",
     "text": [
      "this is my first class\n"
     ]
    }
   ],
   "source": [
    "pw2.class1()"
   ]
  },
  {
   "cell_type": "code",
   "execution_count": null,
   "metadata": {},
   "outputs": [],
   "source": []
  }
 ],
 "metadata": {
  "kernelspec": {
   "display_name": "Python 3",
   "language": "python",
   "name": "python3"
  },
  "language_info": {
   "codemirror_mode": {
    "name": "ipython",
    "version": 3
   },
   "file_extension": ".py",
   "mimetype": "text/x-python",
   "name": "python",
   "nbconvert_exporter": "python",
   "pygments_lexer": "ipython3",
   "version": "3.9.7"
  },
  "orig_nbformat": 4
 },
 "nbformat": 4,
 "nbformat_minor": 2
}
