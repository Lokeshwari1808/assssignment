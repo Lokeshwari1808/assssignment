{
 "cells": [
  {
   "cell_type": "markdown",
   "id": "59c3150b-a8cf-4fa4-81d9-c3a96bb67a4b",
   "metadata": {},
   "source": [
    " Q1. Which keyword is used to create a function? Create a function to return a list of odd numbers in the\n",
    "range of 1 to 25."
   ]
  },
  {
   "cell_type": "code",
   "execution_count": 20,
   "id": "81d8cb14-2641-4d2f-92d6-2486ba519eaa",
   "metadata": {},
   "outputs": [],
   "source": [
    "# we can use keyword is def.\n",
    "def odd(n):\n",
    "    l=[]\n",
    "    for i in range(n):\n",
    "        if i%2!=0:\n",
    "            l.append(i)\n",
    "    return l\n",
    "        "
   ]
  },
  {
   "cell_type": "code",
   "execution_count": 21,
   "id": "bc7c5db9-9c0e-4626-bec5-2d13bb7c08ad",
   "metadata": {},
   "outputs": [
    {
     "data": {
      "text/plain": [
       "[1, 3, 5, 7, 9, 11, 13, 15, 17, 19, 21, 23]"
      ]
     },
     "execution_count": 21,
     "metadata": {},
     "output_type": "execute_result"
    }
   ],
   "source": [
    "odd(25)"
   ]
  },
  {
   "cell_type": "markdown",
   "id": "6ab9c26c-bf10-4041-a630-a037a23399ac",
   "metadata": {},
   "source": [
    "Q2. Why *args and **kwargs is used in some functions? Create a function each for *args and **kwargs to\n",
    "demonstrate their use."
   ]
  },
  {
   "cell_type": "code",
   "execution_count": 6,
   "id": "5c91e66f-4e86-4cad-bb8d-9ca3fc5b9e07",
   "metadata": {},
   "outputs": [],
   "source": [
    "# we can take unlimited arguements in function\n",
    "def test(*args):\n",
    "    return args"
   ]
  },
  {
   "cell_type": "code",
   "execution_count": 7,
   "id": "df90bd15-90bd-450b-8d86-054b68173285",
   "metadata": {},
   "outputs": [
    {
     "data": {
      "text/plain": [
       "([1, 2, 3, 4, 5], 'loki', True)"
      ]
     },
     "execution_count": 7,
     "metadata": {},
     "output_type": "execute_result"
    }
   ],
   "source": [
    "test([1,2,3,4,5],\"loki\",True)"
   ]
  },
  {
   "cell_type": "code",
   "execution_count": 11,
   "id": "f3c844f1-25b9-436a-ae67-18ca41125e35",
   "metadata": {},
   "outputs": [],
   "source": [
    "# \n",
    "def test(**kwargs):\n",
    "    return kwargs"
   ]
  },
  {
   "cell_type": "code",
   "execution_count": 14,
   "id": "78440aeb-08d7-4246-b4e5-99bca414338a",
   "metadata": {},
   "outputs": [
    {
     "data": {
      "text/plain": [
       "{'a': 1, 'b': 1.25, 'c': False, 'd': 'loki'}"
      ]
     },
     "execution_count": 14,
     "metadata": {},
     "output_type": "execute_result"
    }
   ],
   "source": [
    "test(a=1,b=1.25,c=False,d=\"loki\")"
   ]
  },
  {
   "cell_type": "markdown",
   "id": "f4ef67ed-bd30-440f-aa5a-6dc992cb67a1",
   "metadata": {},
   "source": [
    "Q3. What is an iterator in python? Name the method used to initialise the iterator object and the method\n",
    "used for iteration. Use these methods to print the first five elements of the given list [2, 4, 6, 8, 10, 12, 14, 16,\n",
    "18, 20]."
   ]
  },
  {
   "cell_type": "code",
   "execution_count": 15,
   "id": "0a2aa270-7489-436e-a0ff-36b4008c6eeb",
   "metadata": {},
   "outputs": [
    {
     "name": "stdout",
     "output_type": "stream",
     "text": [
      "2\n",
      "4\n",
      "6\n",
      "8\n",
      "10\n"
     ]
    }
   ],
   "source": [
    "\n",
    "\"\"\"  Iterators in Python allow for efficient access to elements in a sequence one at a time. \n",
    "This allows for the creation of efficient and memory-saving loops that can process large amounts of data.  \n",
    "     To initialize an iterator object in Python, we can use the iter() method.\n",
    "    It takes a container  as an argument and returns an iterator object.\"\"\"\n",
    "list1 = [2, 4, 6, 8, 10, 12, 14, 16, 18, 20]\n",
    "\n",
    "my_iterator = iter(list1)\n",
    "\n",
    "for i in range(5):\n",
    "    element = next(my_iterator)\n",
    "    print(element)\n",
    "\n"
   ]
  },
  {
   "cell_type": "markdown",
   "id": "dd856496-1054-49b5-be64-b73d0d13ec33",
   "metadata": {},
   "source": [
    "Q4. What is a generator function in python? Why yield keyword is used? Give an example of a generator\n",
    "function."
   ]
  },
  {
   "cell_type": "code",
   "execution_count": 16,
   "id": "13c7137d-6f05-4e47-b5a9-39ddc0bef52c",
   "metadata": {},
   "outputs": [],
   "source": [
    "# Generator function is used to generate sequence of values\n",
    "def fibonacci(n):\n",
    "    a,b=0,1\n",
    "    for i in range(n):\n",
    "        yield a\n",
    "        a,b=b,b+a"
   ]
  },
  {
   "cell_type": "code",
   "execution_count": 19,
   "id": "c23a2508-382a-4eb8-bd16-fb439494e175",
   "metadata": {},
   "outputs": [
    {
     "data": {
      "text/plain": [
       "<generator object fibonacci at 0x7f0042f6a500>"
      ]
     },
     "execution_count": 19,
     "metadata": {},
     "output_type": "execute_result"
    }
   ],
   "source": [
    "fibonacci(12)"
   ]
  },
  {
   "cell_type": "code",
   "execution_count": 20,
   "id": "aa2bea1b-6cad-4d60-b500-1daf28b5f6bc",
   "metadata": {},
   "outputs": [
    {
     "name": "stdout",
     "output_type": "stream",
     "text": [
      "0\n",
      "1\n",
      "1\n",
      "2\n",
      "3\n",
      "5\n",
      "8\n",
      "13\n",
      "21\n",
      "34\n",
      "55\n",
      "89\n"
     ]
    }
   ],
   "source": [
    "for i in fibonacci(12):\n",
    "    print(i)"
   ]
  },
  {
   "cell_type": "markdown",
   "id": "07c66287-756b-4044-8269-e4af80258e00",
   "metadata": {},
   "source": [
    "Q5. Create a generator function for prime numbers less than 1000. Use the next() method to print the\n",
    "first 20 prime numbers."
   ]
  },
  {
   "cell_type": "code",
   "execution_count": 40,
   "id": "05ed16f8-ac32-4129-8d9b-3a489fae7ef9",
   "metadata": {},
   "outputs": [],
   "source": [
    "def prime(n):\n",
    "    for i in range(100):\n",
    "        for j in range(2,i):\n",
    "            if i%j==0:\n",
    "                break\n",
    "        else:\n",
    "             yield i \n",
    "    \n",
    "    "
   ]
  },
  {
   "cell_type": "code",
   "execution_count": 41,
   "id": "689c06ec-31d0-49e9-ae4a-b5ee92d69b02",
   "metadata": {},
   "outputs": [
    {
     "data": {
      "text/plain": [
       "<generator object prime at 0x7f0042f6b220>"
      ]
     },
     "execution_count": 41,
     "metadata": {},
     "output_type": "execute_result"
    }
   ],
   "source": [
    "prime(100)"
   ]
  },
  {
   "cell_type": "code",
   "execution_count": 42,
   "id": "6cd23f68-b1b8-4d1a-b7f5-e75c7b109da2",
   "metadata": {},
   "outputs": [
    {
     "name": "stdout",
     "output_type": "stream",
     "text": [
      "0\n",
      "1\n",
      "2\n",
      "3\n",
      "5\n",
      "7\n",
      "11\n",
      "13\n",
      "17\n",
      "19\n",
      "23\n",
      "29\n",
      "31\n",
      "37\n",
      "41\n",
      "43\n",
      "47\n",
      "53\n",
      "59\n",
      "61\n",
      "67\n",
      "71\n",
      "73\n",
      "79\n",
      "83\n",
      "89\n",
      "97\n"
     ]
    }
   ],
   "source": [
    "for i in prime(100):\n",
    "    print(i)"
   ]
  },
  {
   "cell_type": "code",
   "execution_count": 44,
   "id": "e455df99-340a-40e7-bd21-bdb68f7f91cb",
   "metadata": {},
   "outputs": [],
   "source": [
    "t=prime(1000)"
   ]
  },
  {
   "cell_type": "code",
   "execution_count": 49,
   "id": "259e7322-46f0-4e8f-9590-a9c193cb9288",
   "metadata": {},
   "outputs": [
    {
     "data": {
      "text/plain": [
       "5"
      ]
     },
     "execution_count": 49,
     "metadata": {},
     "output_type": "execute_result"
    }
   ],
   "source": [
    "next(t)"
   ]
  }
 ],
 "metadata": {
  "kernelspec": {
   "display_name": "Python 3 (ipykernel)",
   "language": "python",
   "name": "python3"
  },
  "language_info": {
   "codemirror_mode": {
    "name": "ipython",
    "version": 3
   },
   "file_extension": ".py",
   "mimetype": "text/x-python",
   "name": "python",
   "nbconvert_exporter": "python",
   "pygments_lexer": "ipython3",
   "version": "3.10.8"
  }
 },
 "nbformat": 4,
 "nbformat_minor": 5
}
